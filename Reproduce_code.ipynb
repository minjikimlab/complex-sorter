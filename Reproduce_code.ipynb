{
 "cells": [
  {
   "cell_type": "code",
   "execution_count": 2,
   "metadata": {
    "collapsed": true
   },
   "outputs": [],
   "source": [
    "import numpy as np\n",
    "import pandas as pd\n",
    "import matplotlib.pyplot as plt\n",
    "import glob\n",
    "from pybedtools import BedTool\n",
    "# import ipdb\n",
    "import time\n",
    "from tqdm import tqdm\n",
    "import scipy.stats"
   ]
  },
  {
   "cell_type": "markdown",
   "metadata": {},
   "source": [
    "# Processing ChIA-PET data"
   ]
  },
  {
   "cell_type": "code",
   "execution_count": 149,
   "metadata": {
    "collapsed": true
   },
   "outputs": [],
   "source": [
    "# Process ChIA-PET data\n",
    "#  dataset ,point_name, value_name1,value_name2, value1, value2\n",
    "\n",
    "def InInterval(s1,e1,e2,s3):\n",
    "    return ((int(e1) >= np.array(e2)) * (np.array(e2)>=int(s1)))*((int(e1) >= np.array(s3)) * (np.array(s3)>=int(s1)))\n",
    "\n",
    "\n",
    "dataset_name = 'LHG0052H.e500.clusters.cis.bothanchint_G100.PETcnt_G4.sorted.bedpe'\n",
    "value_name1 = 'LoopNumber'\n",
    "value_name2 = 'Tot_Loopcount'\n",
    "\n",
    "Region_DF = pd.read_csv('Region_short_dm.bed',sep = '\\t',names = ['chr','dm_start','dm_end','dmID',\n",
    "                                                                  'A','B','C','D','E','F','G'])\n",
    "Region_DF = Region_DF.iloc[:,0:4]\n",
    "# Region_DF.head()\n",
    "\n",
    "\n",
    "path = 'Minji_data/LHG0052H.e500.clusters.cis.bothanchint_G100.PETcnt_G4.sorted.bedpe'\n",
    "PETloop_DF = pd.read_csv(path,sep = '\\t',names = ['chrF','lp_L_start','lp_L_end','chrS','lp_R_start','lp_R_end','PET_count'])\n",
    "PETloop_DF = PETloop_DF.iloc[:,[0,2,4,6]]\n",
    "\n",
    "# PETloop_DF.head()\n",
    "List = []\n",
    "for i in range(len(Region_DF)):\n",
    "# for i in range(1):\n",
    "    Temploop_DF = PETloop_DF[PETloop_DF['chrF'] == Region_DF.loc[i,'chr']]\n",
    "    InDmloop = Temploop_DF[InInterval(Region_DF.loc[i,'dm_start'],Region_DF.loc[i,'dm_end'],Temploop_DF['lp_L_end'],Temploop_DF['lp_R_start'])]\n",
    "    loopNum = len(InDmloop)\n",
    "    TotloopCount = np.sum(np.array(InDmloop['PET_count']))\n",
    "    List.append([dataset_name,Region_DF.loc[i,'dmID'],value_name1,value_name2,loopNum,TotloopCount])\n",
    "\n",
    "DF = pd.DataFrame(List,columns =['dataset','point_name','value_name1','value_name2',value_name1,value_name2])\n",
    "DF.to_csv('Minji_data/Final_data_results/Reproduce_results/'+dataset_name+'_PETNumandCount'+'.csv',index=False)\n",
    "# Max_iter = Region_short.count()\n",
    "# for i in tqdm(range(Max_iter)):\n",
    "#     NowRegion = BedTool(Region_short[i:i+1]).saveas()"
   ]
  },
  {
   "cell_type": "markdown",
   "metadata": {},
   "source": [
    "# Processing ChIA-Drop data"
   ]
  },
  {
   "cell_type": "code",
   "execution_count": 115,
   "metadata": {
    "collapsed": true
   },
   "outputs": [],
   "source": [
    "# Extract ChIA-Drop data\n",
    "\n",
    "dataset_name = 'SHG0180-181-195-196NR_hg38_RAD21_filt_comp_FDR_0.1_ALL'\n",
    "value_name = 'ChIA-Drop: number of complexes (L+R+B)'\n",
    "savepath = 'Minji_data/Final_data_results/Reproduce_results/'\n",
    "path = 'Minji_data/Final_data_results/SHG_NR_RAD21/01ALL_dm/Tables/All_Results.csv'\n",
    "DF = pd.read_csv(path)\n",
    "DF.head()\n",
    "\n",
    "DF_short = pd.DataFrame(DF['Total-None']).rename(columns = {'Total-None' : 'value'})\n",
    "DF_short.insert(0,'value_name',[value_name]*len(DF))\n",
    "DF_short.insert(0,'point_name',DF['LoopID'])\n",
    "DF_short.insert(0,'dataset',[dataset_name]*len(DF))\n",
    "\n",
    "DF_short.to_csv(savepath+dataset_name+'_'+value_name+'.csv',index=False)\n",
    "# Mdata_short.insert(0,'dataset',[dataset_name]*len(Mdata))\n",
    "# Mdata_short.insert(2,'value_name',[value_name]*len(Mdata))\n",
    "# Mdata_short.head()"
   ]
  },
  {
   "cell_type": "markdown",
   "metadata": {},
   "source": [
    "# Extracting intensity for each motif"
   ]
  },
  {
   "cell_type": "code",
   "execution_count": 100,
   "metadata": {
    "collapsed": true
   },
   "outputs": [],
   "source": [
    "# dataset ,point_name, value_name, value\n",
    "# Motif nodes here\n",
    "\n",
    "dataset_name = 'CTCF_motifs_STORM_hg38_Ext4kbBoth_with_supermotif_domain_id_v7.sorted.bed'\n",
    "value_name = 'Cohesin_Drop_intensity'\n",
    "Motifpath = 'Minji_data/'+dataset_name\n",
    "savepath = 'Minji_data/Final_data_results/Reproduce_results/'\n",
    "\n",
    "\n",
    "# Motifpath = 'Minji_data/CTCF_motifs_STORM_hg38_Ext4kbBoth_with_supermotif_for_casilio_loops.sorted.bed'\n",
    "Mdata = pd.read_csv(Motifpath, sep = '\\t',\n",
    "                    names = ['chr','start','end','orientation','Mt_ID',\n",
    "                             'dmID','Side',\n",
    "                             'CTCF PET intensity','CTCF Drop intensity',\n",
    "                             'Coh PET intensity','Coh Drop intensity'])\n",
    "\n",
    "# Mdata = Mdata[Mdata['dmID'] != '.']\n",
    "# Mdata.head()\n",
    "Mdata_short = pd.DataFrame(Mdata['Mt_ID']).rename(columns = {'Mt_ID' : 'point_name'})\n",
    "Mdata_short.insert(1,'value',Mdata['Coh Drop intensity'])\n",
    "Mdata_short.insert(0,'dataset',[dataset_name]*len(Mdata))\n",
    "Mdata_short.insert(2,'value_name',[value_name]*len(Mdata))\n",
    "# Mdata_short.head()\n",
    "\n",
    "\n",
    "Mdata_short.to_csv(savepath+dataset_name+'_'+value_name+'.csv',index=False)"
   ]
  },
  {
   "cell_type": "markdown",
   "metadata": {},
   "source": [
    "# This is the plot function:  \n",
    "Input data should have form: [dataset,point_name,value_name,value]\n",
    "Or [dataset,point_name,value_name1,value_name2,value1,value2]"
   ]
  },
  {
   "cell_type": "code",
   "execution_count": 185,
   "metadata": {
    "collapsed": true
   },
   "outputs": [],
   "source": [
    "# Plot place\n",
    "\n",
    "def mainplot(dataset,data1name,data2name,savepath,postfix,Multi = ''):\n",
    "    # dataset: dataset that used for plotting\n",
    "    # data1name: data for x-axis\n",
    "    # data2name: data for y-axis\n",
    "    # Multi: option for different valuei (i.e. Multi = 2 will plot value2, default is '')\n",
    "    # savepath: path to save the plot\n",
    "    # postfix: string that added to the end of the file name\n",
    "\n",
    "#     dataset = 'CTCF_motifs_STORM_hg38_Ext4kbBoth_with_supermotif_domain_id_v7.sorted.bed_Cohesin'\n",
    "\n",
    "#     data1name = 'CTCF_motifs_STORM_hg38_Ext4kbBoth_with_supermotif_domain_id_v7.sorted.bed_CTCF_Drop_intensity.csv'\n",
    "    data1path = 'Minji_data/Final_data_results/Reproduce_results/'+data1name\n",
    "\n",
    "#     data2name = 'CTCF_motifs_STORM_hg38_Ext4kbBoth_with_supermotif_domain_id_v7.sorted.bed_CTCF_PET_intensity.csv'\n",
    "    data2path = 'Minji_data/Final_data_results/Reproduce_results/'+data2name\n",
    "\n",
    "    DF1 = pd.read_csv(data1path)\n",
    "    DF2 = pd.read_csv(data2path)\n",
    "\n",
    "    # # Get top 20%\n",
    "    # DF2 = DF2.sort_values(by=['value'], ascending=False)\n",
    "    # DF2 = DF2.iloc[0:int(len(DF2)/5)]\n",
    "    # # print(DF1.iloc[-1])\n",
    "\n",
    "    if Multi == '':\n",
    "        point_name_list = DF2['point_name']\n",
    "        Data_list = []\n",
    "        # Data_list = ['']*len(point_name_list)\n",
    "        for i in range(len(point_name_list)):\n",
    "        # for i in range(3):\n",
    "            FindDF1 = DF1[DF1['point_name'] == DF2.iloc[i,1]]\n",
    "        #     print(FindDF2)\n",
    "#             if int(FindDF1.iloc[0,-1])> -1 and int(DF2.iloc[i,-1])> -1:\n",
    "            Data_list.append([FindDF1.iloc[0,-1],DF2.iloc[i,-1]])\n",
    "    #         print(DF1.iloc[i,1],DF1.iloc[i,-1],FindDF2.iloc[0,-1])\n",
    "    # #         Data_list[i] = [0,0]\n",
    "    #     else:\n",
    "    #         Data_list[i] = [DF1.iloc[i,-1],FindDF2.iloc[0,-1]]\n",
    "    else:\n",
    "        point_name_list = DF2['point_name']\n",
    "        Data_list = []\n",
    "        # Data_list = ['']*len(point_name_list)\n",
    "        for i in range(len(point_name_list)):\n",
    "        # for i in range(3):\n",
    "            FindDF1 = DF1[DF1['point_name'] == DF2.iloc[i,1]]\n",
    "        #     print(FindDF2)\n",
    "#             if int(FindDF1.iloc[0,-1])> -1 and int(DF2.iloc[i,-1])> -1:\n",
    "            Data_list.append([FindDF1.iloc[0,-int(Multi)],DF2.iloc[i,-int(Multi)]])\n",
    "\n",
    "    DataMatrix = np.array(Data_list)\n",
    "    Pearson,_ = scipy.stats.pearsonr(DataMatrix[:,0],DataMatrix[:,1])\n",
    "    Spearman,_ = scipy.stats.spearmanr(DataMatrix[:,0],DataMatrix[:,1])\n",
    "\n",
    "    # fig = plt.figure()\n",
    "    Max_x = np.max(DataMatrix[:,0])\n",
    "    Min_x = np.min(DataMatrix[:,0])\n",
    "    Mean_x = np.mean(DataMatrix[:,0])\n",
    "    std_x = np.std(DataMatrix[:,0])\n",
    "    std_y = np.std(DataMatrix[:,1])\n",
    "    Mean_y = np.mean(DataMatrix[:,1])\n",
    "    xx = [Min_x,Max_x]\n",
    "    yy = Mean_y+std_y/std_x*Pearson*(xx-Mean_x)\n",
    "\n",
    "    fig,ax = plt.subplots(1, 1, dpi = 150,figsize = (3, 3))\n",
    "    ax.scatter(DataMatrix[:,0],DataMatrix[:,1], marker= '.', c = 'k',alpha=0.5 )\n",
    "    ax.plot(xx,yy,c = 'b')\n",
    "    if Multi == '':\n",
    "        ax.set_xlabel(DF1.iloc[0,2],fontsize=8,rotation=0)\n",
    "        ax.set_ylabel(DF2.iloc[0,2],fontsize=8,rotation=90)\n",
    "    else:\n",
    "        ax.set_xlabel(DF1.iloc[0,int(Multi)+1],fontsize=8,rotation=0)\n",
    "        ax.set_ylabel(DF2.iloc[0,int(Multi)+1],fontsize=8,rotation=90)\n",
    "\n",
    "    title = 'point:'+str(len(point_name_list))+' ,datasets: '+ dataset + ' ,Pearson:' + str(round(Pearson, 3)) + ' ,Spearman:' + str(round(Spearman, 3))\n",
    "    ax.set_title(title, fontsize = 4)\n",
    "\n",
    "#     savepath = 'Minji_data/Final_data_results/Reproduce_results/Plots/{}.png'\n",
    "#     postfix = 'Cohesin_ChIA_PET_intvsCohesin_ChIA_PET_int_top20%Drop'\n",
    "    plt.savefig(savepath.format(dataset+'_'+postfix),\n",
    "                    dpi = 600, bbox_inches='tight')"
   ]
  }
 ],
 "metadata": {
  "kernelspec": {
   "display_name": "Python 3",
   "language": "python",
   "name": "python3"
  },
  "language_info": {
   "codemirror_mode": {
    "name": "ipython",
    "version": 3
   },
   "file_extension": ".py",
   "mimetype": "text/x-python",
   "name": "python",
   "nbconvert_exporter": "python",
   "pygments_lexer": "ipython3",
   "version": "3.6.7"
  }
 },
 "nbformat": 4,
 "nbformat_minor": 4
}
